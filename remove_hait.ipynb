{
 "cells": [
  {
   "cell_type": "code",
   "execution_count": 1,
   "metadata": {},
   "outputs": [
    {
     "name": "stderr",
     "output_type": "stream",
     "text": [
      "Processing ISIC2018_Task3_Test_Images: 100%|██████████| 1511/1511 [01:54<00:00, 13.23it/s]"
     ]
    },
    {
     "name": "stdout",
     "output_type": "stream",
     "text": [
      "All processing completed.\n"
     ]
    },
    {
     "name": "stderr",
     "output_type": "stream",
     "text": [
      "\n"
     ]
    }
   ],
   "source": [
    "import os\n",
    "import cv2\n",
    "import numpy as np\n",
    "from tqdm import tqdm\n",
    "\n",
    "# Define the paths\n",
    "MAIN_FOLDER = '/app'\n",
    "DATA_FOLDER = os.path.join(MAIN_FOLDER, 'data')\n",
    "\n",
    "# Paths to original data\n",
    "TRAIN_IMAGES_PATH = os.path.join(DATA_FOLDER, 'ISIC2018_Task1-2_Training_Input')\n",
    "VAL_IMAGES_PATH = os.path.join(DATA_FOLDER, 'ISIC2018_Task1-2_Validation_Input')\n",
    "TEST_IMAGES_PATH = os.path.join(DATA_FOLDER, 'ISIC2018_Task1-2_Test_Input')\n",
    "RAD_IMAGES_PATH = os.path.join(DATA_FOLDER, 'ISIC2018_Task3_Test_Images')\n",
    "\n",
    "\n",
    "# Paths to save data with no hair\n",
    "TRAIN_IMAGES_PATH_NO_HAIR = os.path.join(DATA_FOLDER, 'ISIC2018_Task1-2_Training_Input_No_Hair')\n",
    "VAL_IMAGES_PATH_NO_HAIR = os.path.join(DATA_FOLDER, 'ISIC2018_Task1-2_Validation_Input_No_Hair')\n",
    "TEST_IMAGES_PATH_NO_HAIR = os.path.join(DATA_FOLDER, 'ISIC2018_Task1-2_Test_Input_No_Hair')\n",
    "RAD_IMAGES_PATH_NO_HAIR = os.path.join(DATA_FOLDER, 'ISIC2018_Task3_Test_Images_No_Hair')\n",
    "\n",
    "\n",
    "# Function to remove hair\n",
    "def remove_hair(image):\n",
    "    # Convert the image to grayscale\n",
    "    gray = cv2.cvtColor(image, cv2.COLOR_BGR2GRAY)\n",
    "    \n",
    "    # Increase contrast using adaptive histogram equalization (CLAHE)\n",
    "    clahe = cv2.createCLAHE(clipLimit=2.0, tileGridSize=(8, 8))\n",
    "    gray = clahe.apply(gray)\n",
    "    \n",
    "    # Use morphological operations to detect hair\n",
    "    kernel_size = (9, 9)  # Smaller kernel size for more precise hair detection\n",
    "    kernel = cv2.getStructuringElement(cv2.MORPH_RECT, kernel_size)\n",
    "    blackhat = cv2.morphologyEx(gray, cv2.MORPH_BLACKHAT, kernel)\n",
    "    \n",
    "    # Use a threshold to create a binary mask of the hair\n",
    "    _, binary_mask = cv2.threshold(blackhat, 15, 255, cv2.THRESH_BINARY)\n",
    "    \n",
    "    # Dilate the mask to cover hair more effectively\n",
    "    dilated_mask = cv2.dilate(binary_mask, np.ones((3, 3), np.uint8), iterations=1)\n",
    "    \n",
    "    # Inpaint the original image using the dilated mask\n",
    "    inpainted_image = cv2.inpaint(image, dilated_mask, inpaintRadius=2, flags=cv2.INPAINT_TELEA)\n",
    "    \n",
    "    return inpainted_image\n",
    "\n",
    "# Function to process and save images without hair\n",
    "def process_and_save_images(images_path, save_path):\n",
    "    # Ensure the save path exists\n",
    "    os.makedirs(save_path, exist_ok=True)\n",
    "    \n",
    "    # List all images in the directory\n",
    "    image_files = os.listdir(images_path)\n",
    "    \n",
    "    # Use tqdm to show progress bar\n",
    "    for image_file in tqdm(image_files, desc=f\"Processing {os.path.basename(images_path)}\"):\n",
    "        # Read the image\n",
    "        image_path = os.path.join(images_path, image_file)\n",
    "        image = cv2.imread(image_path)\n",
    "        \n",
    "        if image is None:\n",
    "            print(f\"Error: {image_file} could not be read.\")\n",
    "            continue\n",
    "        \n",
    "        # Remove hair from the image\n",
    "        image_no_hair = remove_hair(image)\n",
    "        \n",
    "        # Save the processed image\n",
    "        save_image_path = os.path.join(save_path, image_file)\n",
    "        cv2.imwrite(save_image_path, image_no_hair)\n",
    "\n",
    "# Process and save the training, validation, and test datasets with progress bars\n",
    "process_and_save_images(TRAIN_IMAGES_PATH, TRAIN_IMAGES_PATH_NO_HAIR)\n",
    "process_and_save_images(VAL_IMAGES_PATH, VAL_IMAGES_PATH_NO_HAIR)\n",
    "process_and_save_images(TEST_IMAGES_PATH, TEST_IMAGES_PATH_NO_HAIR)\n",
    "process_and_save_images(RAD_IMAGES_PATH, RAD_IMAGES_PATH_NO_HAIR)\n",
    "\n",
    "print(\"All processing completed.\")"
   ]
  }
 ],
 "metadata": {
  "kernelspec": {
   "display_name": "base",
   "language": "python",
   "name": "python3"
  },
  "language_info": {
   "codemirror_mode": {
    "name": "ipython",
    "version": 3
   },
   "file_extension": ".py",
   "mimetype": "text/x-python",
   "name": "python",
   "nbconvert_exporter": "python",
   "pygments_lexer": "ipython3",
   "version": "3.10.13"
  }
 },
 "nbformat": 4,
 "nbformat_minor": 2
}
